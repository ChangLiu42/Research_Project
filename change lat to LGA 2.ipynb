{
 "cells": [
  {
   "cell_type": "markdown",
   "metadata": {},
   "source": [
    "# Python Tweepy Crawler"
   ]
  },
  {
   "cell_type": "markdown",
   "metadata": {
    "collapsed": true
   },
   "source": [
    "Student Name: Chang Liu\n",
    "\n",
    "Student ID: 741011\n",
    "\n",
    "Python version used: Python 2.7.13"
   ]
  },
  {
   "cell_type": "markdown",
   "metadata": {},
   "source": [
    "## General info"
   ]
  },
  {
   "cell_type": "markdown",
   "metadata": {
    "collapsed": true
   },
   "source": [
    "Twitter config"
   ]
  },
  {
   "cell_type": "code",
   "execution_count": 4,
   "metadata": {
    "collapsed": true
   },
   "outputs": [],
   "source": [
    "import json\n",
    "lga_feature = open('C:/Users/LC/Desktop/Fast food research/aus_lga.json','r')\n",
    "lga_json = json.loads(lga_feature.read())"
   ]
  },
  {
   "cell_type": "code",
   "execution_count": 5,
   "metadata": {},
   "outputs": [
    {
     "name": "stdout",
     "output_type": "stream",
     "text": [
      "False\n"
     ]
    }
   ],
   "source": [
    "def isInsidePolygon(pt, poly):\n",
    "    c = False\n",
    "    i = -1\n",
    "    l = len(poly)\n",
    "    j = l - 1\n",
    "    while i < l-1:\n",
    "        i += 1\n",
    "        #print i,poly[i], j,poly[j]\n",
    "        if ((poly[i][0] <= pt[0] and pt[0] < poly[j][0]) or (poly[j][0] <= pt[0] and pt[0] < poly[i][0])):\n",
    "            if (pt[1] < (poly[j][1] - poly[i][1]) * (pt[0] - poly[i][0]) / (poly[j][0] - poly[i][0]) + poly[i][1]):\n",
    "                c = not c\n",
    "        j = i\n",
    "    return c\n",
    "\n",
    "if __name__ == '__main__':\n",
    "    abc = [[1,1],[1,4],[3,7],[4,4],[4,1]]\n",
    "    print isInsidePolygon([2,5], abc)"
   ]
  },
  {
   "cell_type": "code",
   "execution_count": 6,
   "metadata": {
    "scrolled": true
   },
   "outputs": [
    {
     "name": "stdout",
     "output_type": "stream",
     "text": [
      "[146.72566554609017, -36.45901779269173]\n"
     ]
    }
   ],
   "source": [
    "#abc = [[1,1],[1,4],[3,7],[4,4],[4,1]]\n",
    "formatlatlon = []\n",
    "lgacode = []\n",
    "lganame = []\n",
    "for lga_col in lga_json['features']:\n",
    "    alllat = 0\n",
    "    alllon = 0\n",
    "    if lga_col['properties']['STATE_CODE'] == u'2':\n",
    "        if len(lga_col['geometry']['coordinates'][0][0]) > 2:\n",
    "            for onepoly in lga_col['geometry']['coordinates'][0]:\n",
    "                lgacode.append(lga_col['properties']['LGA_CODE11'])\n",
    "                lganame.append(lga_col['properties']['LGA_NAME11'])\n",
    "                formatlatlon.append(onepoly)\n",
    "        else:\n",
    "            lgacode.append(lga_col['properties']['LGA_CODE11'])\n",
    "            lganame.append(lga_col['properties']['LGA_NAME11'])\n",
    "            formatlatlon.append(lga_col['geometry']['coordinates'][0])\n",
    "\n",
    "print formatlatlon[0][0]"
   ]
  },
  {
   "cell_type": "code",
   "execution_count": 7,
   "metadata": {
    "collapsed": true
   },
   "outputs": [],
   "source": [
    "testpoint = [145.054879,-37.95882]"
   ]
  },
  {
   "cell_type": "code",
   "execution_count": 8,
   "metadata": {
    "collapsed": true,
    "scrolled": true
   },
   "outputs": [],
   "source": [
    "def calbest(latlongroup,point):\n",
    "    for numpoly in range(len(latlongroup)):\n",
    "        if isInsidePolygon(point,latlongroup[numpoly]):\n",
    "            return [lgacode[numpoly],lganame[numpoly]]"
   ]
  },
  {
   "cell_type": "code",
   "execution_count": 9,
   "metadata": {},
   "outputs": [
    {
     "data": {
      "text/plain": [
       "[u'23430', u'Kingston (C)']"
      ]
     },
     "execution_count": 9,
     "metadata": {},
     "output_type": "execute_result"
    }
   ],
   "source": [
    "calbest(formatlatlon,testpoint)"
   ]
  },
  {
   "cell_type": "code",
   "execution_count": 41,
   "metadata": {},
   "outputs": [
    {
     "name": "stdout",
     "output_type": "stream",
     "text": [
      "762\n"
     ]
    }
   ],
   "source": [
    "import csv\n",
    "f = open(\"C:/Users/LC/Desktop/Fast food research/mel_ff.csv\")\n",
    "f_csv = csv.reader(f)\n",
    "ta_info = []\n",
    "for info in f_csv:\n",
    "    latlon = []\n",
    "    new_info = []\n",
    "    new_info.extend(info)\n",
    "    latlon.append(float(info[2]))\n",
    "    latlon.append(float(info[1]))\n",
    "    if calbest(formatlatlon,latlon) == None:\n",
    "        new_info.extend([' ',' '])\n",
    "    else:\n",
    "        new_info.extend(calbest(formatlatlon,latlon))\n",
    "    ta_info.append(new_info)\n",
    "print len(ta_info)"
   ]
  },
  {
   "cell_type": "code",
   "execution_count": 42,
   "metadata": {},
   "outputs": [
    {
     "name": "stdout",
     "output_type": "stream",
     "text": [
      "[['Subway', '-37.75131260000001', '144.7761974', u'21180', u'Brimbank (C)'], ['Subway Restaurant', '-37.7949998', '144.9499118', u'24600', u'Melbourne (C)'], ['Subway', '-37.7324717', '144.9506279', u'25250', u'Moreland (C)'], ['Subway Restaurant', '-37.8693997', '144.7622582', u'23110', u'Hobsons Bay (C)'], ['Subway Restaurant', '-37.6874036', '144.5669864', u'24650', u'Melton (S)'], ['Subway Restaurant', '-37.68394290000001', '144.5808657', u'24650', u'Melton (S)'], ['Subway Restaurant', '-37.5825171', '144.7269734', u'23270', u'Hume (C)'], ['Subway Restaurant', '-37.577039', '144.728583', u'23270', u'Hume (C)'], ['Subway', '-37.6889609', '144.6049012', u'24650', u'Melton (S)'], ['Subway Restaurant', '-37.7967968', '144.9604854', u'24600', u'Melbourne (C)'], ['Subway Northpoint Epping', '-37.648885', '145.000888', u'27070', u'Whittlesea (C)'], ['Subway Restaurant', '-37.66543689999999', '144.7538732', u'21180', u'Brimbank (C)'], ['Subway Restaurant', '-37.7318421', '144.7416804', u'24650', u'Melton (S)'], ['Subway', '-37.8347242', '144.6902898', u'27260', u'Wyndham (C)'], ['Subway', '-37.69932420000001', '144.7762277', u'21180', u'Brimbank (C)'], ['Subway Restaurant', '-37.725978', '144.780855', u'21180', u'Brimbank (C)'], ['Subway Thomastown', '-37.6903433', '145.0017345', u'27070', u'Whittlesea (C)'], ['Subway', '-37.87701570000001', '145.1652868', u'24970', u'Monash (C)'], ['Subway Resturant', '-37.6811944', '145.0707692', u'27070', u'Whittlesea (C)'], ['Subway Restaurant', '-37.63959440000001', '144.8818059', u'23270', u'Hume (C)']]\n"
     ]
    }
   ],
   "source": [
    "print ta_info[:20]"
   ]
  },
  {
   "cell_type": "code",
   "execution_count": 44,
   "metadata": {
    "collapsed": true
   },
   "outputs": [],
   "source": [
    "fileHeader = [\"name\", \"lat\",\"lon\",\"lgacode\",\"lganame\"]\n",
    "csvFile = open(\"marked_mel_ff.csv\", \"wb\")\n",
    "writer = csv.writer(csvFile)\n",
    "\n",
    "writer.writerow(fileHeader)\n",
    "for a in ta_info:\n",
    "    writer.writerow(a)\n",
    "csvFile.close()"
   ]
  },
  {
   "cell_type": "code",
   "execution_count": null,
   "metadata": {
    "collapsed": true
   },
   "outputs": [],
   "source": []
  }
 ],
 "metadata": {
  "anaconda-cloud": {},
  "kernelspec": {
   "display_name": "Python 2",
   "language": "python",
   "name": "python2"
  },
  "language_info": {
   "codemirror_mode": {
    "name": "ipython",
    "version": 2
   },
   "file_extension": ".py",
   "mimetype": "text/x-python",
   "name": "python",
   "nbconvert_exporter": "python",
   "pygments_lexer": "ipython2",
   "version": "2.7.13"
  }
 },
 "nbformat": 4,
 "nbformat_minor": 1
}
