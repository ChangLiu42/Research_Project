{
 "cells": [
  {
   "cell_type": "markdown",
   "metadata": {},
   "source": [
    "# Python Tweepy Crawler"
   ]
  },
  {
   "cell_type": "markdown",
   "metadata": {
    "collapsed": true
   },
   "source": [
    "Student Name: Chang Liu\n",
    "\n",
    "Student ID: 741011\n",
    "\n",
    "Python version used: Python 2.7.13"
   ]
  },
  {
   "cell_type": "markdown",
   "metadata": {},
   "source": [
    "## General info"
   ]
  },
  {
   "cell_type": "markdown",
   "metadata": {
    "collapsed": true
   },
   "source": [
    "Twitter config"
   ]
  },
  {
   "cell_type": "code",
   "execution_count": 1,
   "metadata": {},
   "outputs": [
    {
     "name": "stdout",
     "output_type": "stream",
     "text": [
      "[-37.5, -37.5625, -37.625, -37.6875, -37.75, -37.8125, -37.875, -37.9375, -38.0, -38.0625, -38.125, -38.1875, -38.25, -38.3125, -38.375, -38.4375, -38.5]\n",
      "[144.5, 144.5625, 144.625, 144.6875, 144.75, 144.8125, 144.875, 144.9375, 145.0, 145.0625, 145.125, 145.1875, 145.25, 145.3125, 145.375, 145.4375, 145.5]\n"
     ]
    }
   ],
   "source": [
    "a = -37.5\n",
    "b = 144.5\n",
    "l1 = []\n",
    "l2 = []\n",
    "for i in range(17):\n",
    "    l1.append(a-0.0625*i)\n",
    "    l2.append(b+0.0625*i)\n",
    "print l1\n",
    "print l2"
   ]
  },
  {
   "cell_type": "code",
   "execution_count": 2,
   "metadata": {
    "collapsed": true
   },
   "outputs": [],
   "source": [
    "# l1 = [-37.5,-37.625,-37.75,-37.875,-38,-38.125,-38.25,-38.375,-38.5]\n",
    "# l2 = [144.5,144.625,144.75,144.875,145,145.125,145.25,145.375,145.5]\n",
    "# l1 = [-37.5,-37.75,-38,-38.25,-38.5]\n",
    "# l2 = [144.5,144.75,145,145.25,145.5]\n",
    "locationrange = []\n",
    "for a in l1:\n",
    "    for b in l2:\n",
    "        x = []\n",
    "        x.append(a)\n",
    "        x.append(b)\n",
    "        x = tuple(x)\n",
    "        locationrange.append(x)\n",
    "# print locationrange\n",
    "# print len(locationrange)"
   ]
  },
  {
   "cell_type": "code",
   "execution_count": 4,
   "metadata": {
    "scrolled": true
   },
   "outputs": [
    {
     "name": "stdout",
     "output_type": "stream",
     "text": [
      "(-37.5, 144.5)\n",
      "-----------------------------------\n",
      "{u'rating': 2.5, u'name': u\"McDonald's\", u'reference': u'CmRSAAAA5PE76sl7bCmHvFvIEZsW9Cuae_zPJNZ3aondCsRIoyDredt0WML__yrs5QZE-oUEk51atmlQlKjNYunhwyEJjP05Pqaaf20ERh0s5BhirIZJvzcTBx1UKqfFOlSwjVKmEhD1hI5FjStc9kwJOGeOOEjAGhSCCkmIiebC3A-Eh6aJ7WoQSVyTMQ', u'price_level': 1, u'geometry': {u'location': {u'lat': -37.6703886, u'lng': 144.8539045}, u'viewport': {u'northeast': {u'lat': -37.6691089197085, u'lng': 144.8551847802915}, u'southwest': {u'lat': -37.6718068802915, u'lng': 144.8524868197085}}}, u'opening_hours': {u'weekday_text': [], u'open_now': True}, u'place_id': u'ChIJ23ohqpdZ1moRNMiwRIv4gIw', u'photos': [{u'photo_reference': u'CmRaAAAAVHTg6uB87_ytqgE1ObTJVLrZX5aum-e91YQJkfha-P5y9n8Mflta8pdmm6vQf22GM-8vlQ39_SCrkUez8FUKqtHBfGZ3keeptmmJUYF18AAtbFuGz1B9U1eaIN2P3W_AEhCwS3GdUiOwDhxfe7a62pPWGhSGavWVeO2r6JcHy-N6xN1S0HZmxw', u'width': 3024, u'html_attributions': [u'<a href=\"https://maps.google.com/maps/contrib/112259075461747202329/photos\">Arnold Keith</a>'], u'height': 4032}], u'formatted_address': u'Departure Dr, Melbourne Airport VIC 3045, Australia', u'id': u'be316e4bbe6b8abd25cf5182f584b3153765d26c', u'types': [u'restaurant', u'food', u'point_of_interest', u'establishment'], u'icon': u'https://maps.gstatic.com/mapfiles/place_api/icons/restaurant-71.png'}\n",
      "(-37.5, 144.5625)\n",
      "-----------------------------------\n",
      "{u'rating': 2.5, u'name': u\"McDonald's\", u'reference': u'CmRSAAAAdqEnkCTV4NkhIqhbW3v-P0YfJZwsGVSdHKqYGAPLvhDHMYxaUgHspUAOslYYofHgXGx_k5GOyEkObYHeV-kEnfz5LuBWG1886qNFHUsqyBu_aMS1tUsqR74ONQIXd3UwEhBzVTFIqvdrqh0wb14wrOibGhRoR_GfxSk7MppN_-hJiPQJtHlHsg', u'price_level': 1, u'geometry': {u'location': {u'lat': -37.6703886, u'lng': 144.8539045}, u'viewport': {u'northeast': {u'lat': -37.6691089197085, u'lng': 144.8551847802915}, u'southwest': {u'lat': -37.6718068802915, u'lng': 144.8524868197085}}}, u'opening_hours': {u'weekday_text': [], u'open_now': True}, u'place_id': u'ChIJ23ohqpdZ1moRNMiwRIv4gIw', u'photos': [{u'photo_reference': u'CmRaAAAABEIC0NjebCpl4YSbLKEIOyPxkaa6KuG_NNH_voCyPqpjsBVE-tLwHygFwOONmMMGZg4dyV3Eql_OjmkP6BmzKuXlKWf4ELvXzDsJB-u3Csd5v2yg0EwEmjILb-TkEhN0EhD9iNckt9v6xVzLDqVR8GPtGhSTjyT72Lo6r6nSvVWrD3r5ceSlAA', u'width': 3024, u'html_attributions': [u'<a href=\"https://maps.google.com/maps/contrib/112259075461747202329/photos\">Arnold Keith</a>'], u'height': 4032}], u'formatted_address': u'Departure Dr, Melbourne Airport VIC 3045, Australia', u'id': u'be316e4bbe6b8abd25cf5182f584b3153765d26c', u'types': [u'restaurant', u'food', u'point_of_interest', u'establishment'], u'icon': u'https://maps.gstatic.com/mapfiles/place_api/icons/restaurant-71.png'}\n",
      "(-37.5, 144.625)\n",
      "-----------------------------------\n",
      "{u'rating': 2.5, u'name': u\"McDonald's\", u'reference': u'CmRSAAAAqooaPMXjfBxH06mnItbz0pl0os64DTb6cCgsxJGhQ7qjTXxdcEUxlVV_VcY7AbZrt73yrFBgxTADYg0_1W3pOjR3T1XkxfXVaYSEXaPSDewnO0VtTEzjUTA-CbRICmP0EhCqUJJ9RlPK1DMp20edxpTmGhQ7wyvJRX-BrAyX6Bl_Ntu5qCPPhA', u'price_level': 1, u'geometry': {u'location': {u'lat': -37.6703886, u'lng': 144.8539045}, u'viewport': {u'northeast': {u'lat': -37.6691089197085, u'lng': 144.8551847802915}, u'southwest': {u'lat': -37.6718068802915, u'lng': 144.8524868197085}}}, u'opening_hours': {u'weekday_text': [], u'open_now': True}, u'place_id': u'ChIJ23ohqpdZ1moRNMiwRIv4gIw', u'photos': [{u'photo_reference': u'CmRaAAAAOrKdQf9DeBnmV6yyKCO_ptHx5toYEjt3W5IhUp5_8MYJa5antE0pWaFLjFph4TdjaG4DFVa5qcCj58tbrxvjWae7L3PyXWPqB-b4tyWbsCP6Lkl_b7bbm1sGQedi0iz9EhDfUh56pFFKvdDWarzKLrKAGhQ_ACYZMFg1VTVjVHBymFS9GY5OnQ', u'width': 3024, u'html_attributions': [u'<a href=\"https://maps.google.com/maps/contrib/112259075461747202329/photos\">Arnold Keith</a>'], u'height': 4032}], u'formatted_address': u'Departure Dr, Melbourne Airport VIC 3045, Australia', u'id': u'be316e4bbe6b8abd25cf5182f584b3153765d26c', u'types': [u'restaurant', u'food', u'point_of_interest', u'establishment'], u'icon': u'https://maps.gstatic.com/mapfiles/place_api/icons/restaurant-71.png'}\n"
     ]
    },
    {
     "ename": "KeyboardInterrupt",
     "evalue": "",
     "output_type": "error",
     "traceback": [
      "\u001b[1;31m---------------------------------------------------------------------------\u001b[0m",
      "\u001b[1;31mKeyboardInterrupt\u001b[0m                         Traceback (most recent call last)",
      "\u001b[1;32m<ipython-input-4-9237640c8be8>\u001b[0m in \u001b[0;36m<module>\u001b[1;34m()\u001b[0m\n\u001b[0;32m     37\u001b[0m             \u001b[1;32mprint\u001b[0m \u001b[0mrestaurant\u001b[0m\u001b[1;33m\u001b[0m\u001b[0m\n\u001b[0;32m     38\u001b[0m             \u001b[0mlocation_information\u001b[0m\u001b[1;33m.\u001b[0m\u001b[0mappend\u001b[0m\u001b[1;33m(\u001b[0m\u001b[0mrestaurant\u001b[0m\u001b[1;33m)\u001b[0m\u001b[1;33m\u001b[0m\u001b[0m\n\u001b[1;32m---> 39\u001b[1;33m         \u001b[0mtime\u001b[0m\u001b[1;33m.\u001b[0m\u001b[0msleep\u001b[0m\u001b[1;33m(\u001b[0m\u001b[1;36m10\u001b[0m\u001b[1;33m)\u001b[0m\u001b[1;33m\u001b[0m\u001b[0m\n\u001b[0m\u001b[0;32m     40\u001b[0m \u001b[1;32mprint\u001b[0m \u001b[1;34m'complete'\u001b[0m\u001b[1;33m\u001b[0m\u001b[0m\n",
      "\u001b[1;31mKeyboardInterrupt\u001b[0m: "
     ]
    }
   ],
   "source": [
    "import googlemaps\n",
    "from gkey import key\n",
    "from datetime import datetime\n",
    "import time\n",
    "\n",
    "gmaps = googlemaps.Client(key)\n",
    "location_information = []\n",
    "\n",
    "# name = ['McDonald','KFC','Subway',\"Hungry Jack\",'Domino','Red Rooster','Pizza Hut','Nando','fastfood','fast food'] burger king\n",
    "# hungry jack's, red rooster very few\n",
    "name = [\"maccas\"]\n",
    "for onename in name:\n",
    "    for oneloc in locationrange:\n",
    "        print oneloc\n",
    "        place_result = gmaps.places(query = onename,\n",
    "                                   location = oneloc,\n",
    "                                   radius = 5000,\n",
    "                                   language = 'en-AU',\n",
    "                                   min_price = 0,\n",
    "                                   max_price = 4,\n",
    "                                   open_now = False,\n",
    "#                                    type = 'restaurant',\n",
    "                                   )\n",
    "        print '-----------------------------------'\n",
    "\n",
    "        for a in place_result['results']:\n",
    "            print a\n",
    "            break\n",
    "            restaurant = []\n",
    "            #lat_long =[]\n",
    "            restaurant.append(a['name'])\n",
    "            restaurant.append(a['geometry']['location']['lat'])\n",
    "            restaurant.append(a['geometry']['location']['lng'])\n",
    "            #lat_long = tuple(lat_long)\n",
    "            #restaurant.append(lat_long)\n",
    "            #restaurant.append(a['formatted_address'])\n",
    "            print restaurant\n",
    "            location_information.append(restaurant)\n",
    "        time.sleep(10)\n",
    "print 'complete'\n"
   ]
  },
  {
   "cell_type": "code",
   "execution_count": null,
   "metadata": {
    "collapsed": true
   },
   "outputs": [],
   "source": [
    "locationrange2 =[(-37.875, 145.0), (-37.875, 145.0625), (-37.875, 145.125), (-37.875, 145.1875), (-37.875, 145.25), (-37.875, 145.3125), (-37.875, 145.375), (-37.875, 145.4375), (-37.875, 145.5), (-37.9375, 144.5), (-37.9375, 144.5625), (-37.9375, 144.625), (-37.9375, 144.6875), (-37.9375, 144.75), (-37.9375, 144.8125), (-37.9375, 144.875), (-37.9375, 144.9375), (-37.9375, 145.0), (-37.9375, 145.0625), (-37.9375, 145.125), (-37.9375, 145.1875), (-37.9375, 145.25), (-37.9375, 145.3125), (-37.9375, 145.375), (-37.9375, 145.4375), (-37.9375, 145.5), (-38.0, 144.5), (-38.0, 144.5625), (-38.0, 144.625), (-38.0, 144.6875), (-38.0, 144.75), (-38.0, 144.8125), (-38.0, 144.875), (-38.0, 144.9375), (-38.0, 145.0), (-38.0, 145.0625), (-38.0, 145.125), (-38.0, 145.1875), (-38.0, 145.25), (-38.0, 145.3125), (-38.0, 145.375), (-38.0, 145.4375), (-38.0, 145.5), (-38.0625, 144.5), (-38.0625, 144.5625), (-38.0625, 144.625), (-38.0625, 144.6875), (-38.0625, 144.75), (-38.0625, 144.8125), (-38.0625, 144.875), (-38.0625, 144.9375), (-38.0625, 145.0), (-38.0625, 145.0625), (-38.0625, 145.125), (-38.0625, 145.1875), (-38.0625, 145.25), (-38.0625, 145.3125), (-38.0625, 145.375), (-38.0625, 145.4375), (-38.0625, 145.5), (-38.125, 144.5), (-38.125, 144.5625), (-38.125, 144.625), (-38.125, 144.6875), (-38.125, 144.75), (-38.125, 144.8125), (-38.125, 144.875), (-38.125, 144.9375), (-38.125, 145.0), (-38.125, 145.0625), (-38.125, 145.125), (-38.125, 145.1875), (-38.125, 145.25), (-38.125, 145.3125), (-38.125, 145.375), (-38.125, 145.4375), (-38.125, 145.5), (-38.1875, 144.5), (-38.1875, 144.5625), (-38.1875, 144.625), (-38.1875, 144.6875), (-38.1875, 144.75), (-38.1875, 144.8125), (-38.1875, 144.875), (-38.1875, 144.9375), (-38.1875, 145.0), (-38.1875, 145.0625), (-38.1875, 145.125), (-38.1875, 145.1875), (-38.1875, 145.25), (-38.1875, 145.3125), (-38.1875, 145.375), (-38.1875, 145.4375), (-38.1875, 145.5), (-38.25, 144.5), (-38.25, 144.5625), (-38.25, 144.625), (-38.25, 144.6875), (-38.25, 144.75), (-38.25, 144.8125), (-38.25, 144.875), (-38.25, 144.9375), (-38.25, 145.0), (-38.25, 145.0625), (-38.25, 145.125), (-38.25, 145.1875), (-38.25, 145.25), (-38.25, 145.3125), (-38.25, 145.375), (-38.25, 145.4375), (-38.25, 145.5), (-38.3125, 144.5), (-38.3125, 144.5625), (-38.3125, 144.625), (-38.3125, 144.6875), (-38.3125, 144.75), (-38.3125, 144.8125), (-38.3125, 144.875), (-38.3125, 144.9375), (-38.3125, 145.0), (-38.3125, 145.0625), (-38.3125, 145.125), (-38.3125, 145.1875), (-38.3125, 145.25), (-38.3125, 145.3125), (-38.3125, 145.375), (-38.3125, 145.4375), (-38.3125, 145.5), (-38.375, 144.5), (-38.375, 144.5625), (-38.375, 144.625), (-38.375, 144.6875), (-38.375, 144.75), (-38.375, 144.8125), (-38.375, 144.875), (-38.375, 144.9375), (-38.375, 145.0), (-38.375, 145.0625), (-38.375, 145.125), (-38.375, 145.1875), (-38.375, 145.25), (-38.375, 145.3125), (-38.375, 145.375), (-38.375, 145.4375), (-38.375, 145.5), (-38.4375, 144.5), (-38.4375, 144.5625), (-38.4375, 144.625), (-38.4375, 144.6875), (-38.4375, 144.75), (-38.4375, 144.8125), (-38.4375, 144.875), (-38.4375, 144.9375), (-38.4375, 145.0), (-38.4375, 145.0625), (-38.4375, 145.125), (-38.4375, 145.1875), (-38.4375, 145.25), (-38.4375, 145.3125), (-38.4375, 145.375), (-38.4375, 145.4375), (-38.4375, 145.5), (-38.5, 144.5), (-38.5, 144.5625), (-38.5, 144.625), (-38.5, 144.6875), (-38.5, 144.75), (-38.5, 144.8125), (-38.5, 144.875), (-38.5, 144.9375), (-38.5, 145.0), (-38.5, 145.0625), (-38.5, 145.125), (-38.5, 145.1875), (-38.5, 145.25), (-38.5, 145.3125), (-38.5, 145.375), (-38.5, 145.4375), (-38.5, 145.5)]"
   ]
  },
  {
   "cell_type": "code",
   "execution_count": 98,
   "metadata": {},
   "outputs": [
    {
     "name": "stdout",
     "output_type": "stream",
     "text": [
      "==============final====================\n",
      "==============complete=================\n",
      "526\n"
     ]
    }
   ],
   "source": [
    "print '==============final===================='\n",
    "loca_info = []\n",
    "for one in location_information:\n",
    "    if one not in loca_info:\n",
    "        loca_info.append(one)\n",
    "        #print one\n",
    "print '==============complete================='\n",
    "print len(loca_info)\n",
    "for oneloc in already:\n",
    "    locationrange2.remove(oneloc)"
   ]
  },
  {
   "cell_type": "code",
   "execution_count": 109,
   "metadata": {
    "collapsed": true,
    "scrolled": true
   },
   "outputs": [],
   "source": [
    "name = ['burger king']\n",
    "already = []\n",
    "for onename in name:\n",
    "    for oneloc in locationrange2:\n",
    "        print oneloc\n",
    "        place_result = gmaps.places(query = onename,\n",
    "                                   location = oneloc,\n",
    "                                   radius = 5000,\n",
    "                                   language = 'en-AU',\n",
    "                                   min_price = 0,\n",
    "                                    max_price = 4,\n",
    "                                   open_now = False,\n",
    "#                                    type = 'restaurant',\n",
    "                                   )\n",
    "        print '-----------------------------------'\n",
    "\n",
    "        for a in place_result['results']:\n",
    "            restaurant = []\n",
    "            #lat_long =[]\n",
    "            restaurant.append(a['name'])\n",
    "            restaurant.append(a['geometry']['location']['lat'])\n",
    "            restaurant.append(a['geometry']['location']['lng'])\n",
    "            #lat_long = tuple(lat_long)\n",
    "            #restaurant.append(lat_long)\n",
    "            #restaurant.append(a['formatted_address'])\n",
    "            print restaurant\n",
    "            location_information.append(restaurant)\n",
    "        time.sleep(10)\n",
    "        already.append(oneloc)\n",
    "print 'complete'"
   ]
  },
  {
   "cell_type": "code",
   "execution_count": 108,
   "metadata": {
    "collapsed": true,
    "scrolled": true
   },
   "outputs": [],
   "source": [
    "print '==============final===================='\n",
    "loca_info = []\n",
    "for one in location_information:\n",
    "    if one not in loca_info:\n",
    "        loca_info.append(one)\n",
    "        print one\n",
    "print '==============complete================='"
   ]
  },
  {
   "cell_type": "code",
   "execution_count": 100,
   "metadata": {},
   "outputs": [
    {
     "name": "stdout",
     "output_type": "stream",
     "text": [
      "526\n"
     ]
    }
   ],
   "source": [
    "print len(loca_info)"
   ]
  },
  {
   "cell_type": "code",
   "execution_count": 104,
   "metadata": {
    "collapsed": true
   },
   "outputs": [],
   "source": [
    "for a in loca_info:\n",
    "    if u'\\xae' in a[0]:\n",
    "        a[0] = a[0].replace(u'\\xae','')\n",
    "    if u'\\xe9' in a[0]:\n",
    "        a[0] = a[0].replace(u'\\xe9','')\n",
    "        \n",
    "for a in loca_info:\n",
    "    if u'\\xe9' in a[0]:\n",
    "        print a[0]\n"
   ]
  },
  {
   "cell_type": "code",
   "execution_count": 107,
   "metadata": {
    "collapsed": true,
    "scrolled": true
   },
   "outputs": [],
   "source": [
    "for a in loca_info:\n",
    "    print a"
   ]
  },
  {
   "cell_type": "code",
   "execution_count": 106,
   "metadata": {
    "collapsed": true
   },
   "outputs": [],
   "source": [
    "import csv\n",
    "fileHeader = [\"name\", \"lat\",\"lon\"]\n",
    "csvFile = open(\"burgerkinginfo.csv\", \"wb\")\n",
    "writer = csv.writer(csvFile)\n",
    "\n",
    "writer.writerow(fileHeader)\n",
    "for a in loca_info:\n",
    "    writer.writerow(a)\n",
    "csvFile.close()"
   ]
  },
  {
   "cell_type": "code",
   "execution_count": 18,
   "metadata": {
    "collapsed": true
   },
   "outputs": [],
   "source": [
    "from types import GeneratorType\n",
    "\n",
    "import responses\n",
    "\n",
    "import test as _test\n",
    "import googlemaps\n",
    "\n",
    "m_client = googlemaps.Client(key)\n",
    "m_location = (-37.8100903,144.9650002)\n",
    "m_type = 'liquor_store'\n",
    "m_language = 'en-AU'\n",
    "m_radius = 100"
   ]
  },
  {
   "cell_type": "code",
   "execution_count": null,
   "metadata": {
    "collapsed": true
   },
   "outputs": [],
   "source": []
  }
 ],
 "metadata": {
  "anaconda-cloud": {},
  "kernelspec": {
   "display_name": "Python 2",
   "language": "python",
   "name": "python2"
  },
  "language_info": {
   "codemirror_mode": {
    "name": "ipython",
    "version": 2
   },
   "file_extension": ".py",
   "mimetype": "text/x-python",
   "name": "python",
   "nbconvert_exporter": "python",
   "pygments_lexer": "ipython2",
   "version": "2.7.13"
  }
 },
 "nbformat": 4,
 "nbformat_minor": 1
}
