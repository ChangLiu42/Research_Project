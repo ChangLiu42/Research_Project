{
 "cells": [
  {
   "cell_type": "markdown",
   "metadata": {},
   "source": [
    "# Python Tweepy Crawler"
   ]
  },
  {
   "cell_type": "code",
   "execution_count": 1,
   "metadata": {
    "collapsed": true
   },
   "outputs": [],
   "source": [
    "#SA2, about kfc restaurant\n",
    "import json\n",
    "sa2_feature = open('C:/Users/LC/Desktop/Fast food research/SA2 analysis/aus_SA2.json','r')\n",
    "sa2_json = json.loads(sa2_feature.read())\n",
    "\n",
    "sa2_name = []\n",
    "sa2_code = []\n",
    "sa2_polygon = []\n",
    "for i in range(len(sa2_json['features'])):\n",
    "    sa2_name.append(sa2_json['features'][i]['properties']['feature_name'])\n",
    "    sa2_code.append(sa2_json['features'][i]['properties']['feature_code'])\n",
    "    sa2_polygon.append(sa2_json['features'][i]['geometry']['coordinates'][0][0])\n",
    "    \n",
    "def isInsidePolygon(pt, poly):\n",
    "    c = False\n",
    "    i = -1\n",
    "    l = len(poly)\n",
    "    j = l - 1\n",
    "    while i < l-1:\n",
    "        i += 1\n",
    "        #print i,poly[i], j,poly[j]\n",
    "        if ((poly[i][0] <= pt[0] and pt[0] < poly[j][0]) or (poly[j][0] <= pt[0] and pt[0] < poly[i][0])):\n",
    "            if (pt[1] < (poly[j][1] - poly[i][1]) * (pt[0] - poly[i][0]) / (poly[j][0] - poly[i][0]) + poly[i][1]):\n",
    "                c = not c\n",
    "        j = i\n",
    "    return c\n",
    "\n",
    "def calbest(latlongroup,point):\n",
    "    for numpoly in range(len(latlongroup)):\n",
    "        if isInsidePolygon(point,latlongroup[numpoly]):\n",
    "            #print isInsidePolygon(point,latlongroup[numpoly]),lgacode[numpoly],lganame[numpoly]\n",
    "            return [sa2_code[numpoly],sa2_name[numpoly]]"
   ]
  },
  {
   "cell_type": "code",
   "execution_count": 2,
   "metadata": {
    "collapsed": true
   },
   "outputs": [],
   "source": [
    "from sklearn.feature_extraction import DictVectorizer\n",
    "\n",
    "def get_BOW(text):\n",
    "    BOW = {}\n",
    "    for word in text:\n",
    "        BOW[word] = BOW.get(word,0) + 1\n",
    "    return BOW"
   ]
  },
  {
   "cell_type": "code",
   "execution_count": 3,
   "metadata": {},
   "outputs": [
    {
     "name": "stdout",
     "output_type": "stream",
     "text": [
      "208\n"
     ]
    }
   ],
   "source": [
    "import csv\n",
    "f = open(\"C:/Users/LC/Desktop/Fast food research/mc_info.csv\")\n",
    "f_csv = csv.reader(f)\n",
    "ta_info = []\n",
    "latloninfo = []\n",
    "for info in f_csv:\n",
    "    latlon = []\n",
    "    new_info = []\n",
    "    new_info.extend(info)\n",
    "    if info[2] == 'lon':\n",
    "        continue\n",
    "    else:\n",
    "        latlon.append(float(info[2]))\n",
    "        latlon.append(float(info[1]))\n",
    "    if calbest(sa2_polygon,latlon) == None:\n",
    "        new_info.extend([' ',' '])\n",
    "    else:\n",
    "        new_info.extend(calbest(sa2_polygon,latlon))\n",
    "        latloninfo.append(calbest(sa2_polygon,latlon))\n",
    "    ta_info.append(new_info)\n",
    "print len(ta_info)"
   ]
  },
  {
   "cell_type": "code",
   "execution_count": 4,
   "metadata": {
    "scrolled": true
   },
   "outputs": [
    {
     "name": "stdout",
     "output_type": "stream",
     "text": [
      "127\n"
     ]
    }
   ],
   "source": [
    "ffsa2_name = []\n",
    "for a in latloninfo:\n",
    "    ffsa2_name.append(a[1])\n",
    "    \n",
    "latlonbow = get_BOW(ffsa2_name)\n",
    "kfcrl = sorted(latlonbow.items(), lambda x, y: cmp(x[1], y[1]), reverse=True)\n",
    "print len(kfcrl)"
   ]
  },
  {
   "cell_type": "code",
   "execution_count": null,
   "metadata": {
    "collapsed": true
   },
   "outputs": [],
   "source": []
  },
  {
   "cell_type": "code",
   "execution_count": 37,
   "metadata": {
    "scrolled": true
   },
   "outputs": [
    {
     "name": "stdout",
     "output_type": "stream",
     "text": [
      "Error on_data:No JSON object could be decoded\n",
      "processing\n",
      "processing\n",
      "processing\n",
      "processing\n",
      "processing\n",
      "processing\n",
      "processing\n",
      "processing\n",
      "processing\n",
      "processing\n",
      "processing\n",
      "processing\n",
      "processing\n",
      "processing\n",
      "processing\n",
      "processing\n",
      "processing\n",
      "processing\n",
      "processing\n",
      "processing\n",
      "processing\n",
      "processing\n",
      "processing\n",
      "processing\n",
      "processing\n",
      "processing\n",
      "processing\n",
      "processing\n",
      "processing\n",
      "processing\n",
      "processing\n",
      "processing\n",
      "processing\n",
      "processing\n",
      "processing\n",
      "processing\n",
      "processing\n",
      "processing\n",
      "processing\n",
      "processing\n",
      "processing\n",
      "processing\n",
      "processing\n",
      "processing\n",
      "processing\n",
      "processing\n",
      "processing\n",
      "processing\n",
      "processing\n",
      "processing\n",
      "processing\n",
      "processing\n",
      "processing\n",
      "processing\n",
      "processing\n",
      "processing\n",
      "processing\n",
      "processing\n",
      "processing\n",
      "processing\n",
      "processing\n",
      "processing\n",
      "processing\n",
      "processing\n",
      "Error on_data:Expecting object: line 1 column 2914 (char 2913)\n",
      "Error on_data:No JSON object could be decoded\n",
      "Error on_data:No JSON object could be decoded\n",
      "processing\n",
      "processing\n",
      "processing\n",
      "processing\n",
      "processing\n",
      "processing\n",
      "processing\n",
      "processing\n",
      "processing\n",
      "processing\n",
      "processing\n",
      "processing\n",
      "processing\n",
      "processing\n",
      "processing\n",
      "processing\n",
      "processing\n",
      "processing\n",
      "processing\n",
      "processing\n",
      "processing\n",
      "processing\n",
      "processing\n",
      "processing\n",
      "processing\n",
      "processing\n",
      "processing\n",
      "processing\n",
      "processing\n",
      "processing\n",
      "processing\n",
      "processing\n",
      "processing\n",
      "processing\n",
      "processing\n",
      "processing\n",
      "processing\n",
      "processing\n",
      "processing\n",
      "processing\n",
      "processing\n",
      "processing\n",
      "processing\n",
      "processing\n",
      "processing\n",
      "processing\n",
      "processing\n",
      "processing\n",
      "processing\n",
      "processing\n",
      "processing\n",
      "processing\n",
      "processing\n",
      "processing\n",
      "processing\n",
      "processing\n",
      "processing\n",
      "processing\n",
      "processing\n",
      "processing\n",
      "processing\n",
      "processing\n",
      "Error on_data:Expecting object: line 1 column 5526 (char 5525)\n",
      "Error on_data:No JSON object could be decoded\n",
      "930\n",
      "complete\n"
     ]
    }
   ],
   "source": [
    "# # -*- coding: utf-8 -*-  \n",
    "# # proccessing the raw data\n",
    "# import json\n",
    "# import codecs\n",
    "# ffkword = ['McDonald','maccas']\n",
    "\n",
    "# thirdfile = open('E:/middleTwitter.json','r')\n",
    "# containfatkwordfile = codecs.open('E:/seperate twitter/mctwitter.json','w',encoding='utf-8')\n",
    "# alltext = []\n",
    "# i = 0\n",
    "# allt = 0\n",
    "# for line in thirdfile:\n",
    "#     text = []\n",
    "# #     print line\n",
    "# #     print json.loads(line, encoding='utf8')\n",
    "# #     break\n",
    "#     try:\n",
    "#         new = json.loads(line, encoding='utf8')\n",
    "#         for word in ffkword:\n",
    "#             if word.lower() in new['text'].lower():\n",
    "#                 aaaa = json.dumps(new, ensure_ascii=False)\n",
    "#                 containfatkwordfile.write(aaaa+'\\n')\n",
    "#                 allt = allt + 1\n",
    "#                 break\n",
    "# #                 for word2 in fatkword:\n",
    "# #                     if word2.lower() in new['text'].lower():\n",
    "# #                         aaaa = json.dumps(new, ensure_ascii=False)\n",
    "# #                         containfatkwordfile.write(aaaa+'\\n')\n",
    "# #                         allt = allt + 1\n",
    "# #                         break\n",
    "#         i = i + 1\n",
    "#         if i % 10000 == 30:\n",
    "#             print 'processing'\n",
    "#     except BaseException as e:\n",
    "#         print('Error on_data:'+str(e))\n",
    "# print allt\n",
    "# print 'complete'\n",
    "# thirdfile.close()\n",
    "# containfatkwordfile.close()\n",
    "\n",
    "# -*- coding: utf-8 -*-  \n",
    "# proccessing the raw data\n",
    "import json\n",
    "import codecs\n",
    "ffkword = ['McDonald','maccas']\n",
    "\n",
    "\n",
    "thirdfile = open('E:/old collect tweet/hycollected.json','r')\n",
    "containfatkwordfile = codecs.open('E:/seperate twitter/hysimpcollected.json','w',encoding='utf-8')\n",
    "alltext = []\n",
    "i = 0\n",
    "allt = 0\n",
    "for line in thirdfile:\n",
    "    text = []\n",
    "    try:\n",
    "        new = json.loads(line[:-2], encoding='utf8')\n",
    "        for word in ffkword:\n",
    "            if word.lower() in new['doc']['text'].lower():\n",
    "                aaaa = json.dumps(new, ensure_ascii=False)\n",
    "                containfatkwordfile.write(aaaa+'\\n')\n",
    "                allt = allt + 1\n",
    "                break\n",
    "        i = i + 1\n",
    "        if i % 10000 == 30:\n",
    "            print 'processing'\n",
    "    except BaseException as e:\n",
    "        print('Error on_data:'+str(e))\n",
    "print allt\n",
    "print 'complete'\n",
    "thirdfile.close()\n",
    "containfatkwordfile.close()"
   ]
  },
  {
   "cell_type": "code",
   "execution_count": 58,
   "metadata": {},
   "outputs": [
    {
     "name": "stdout",
     "output_type": "stream",
     "text": [
      "160\n",
      "160\n"
     ]
    }
   ],
   "source": [
    "import json\n",
    "import codecs\n",
    "containfatkword = open('E:/seperate twitter/hysimpcollected.json','r')\n",
    "alltext = []\n",
    "sa2_list = []\n",
    "allpoint = []\n",
    "for line in containfatkword:\n",
    "    coorpoint = []\n",
    "    new = json.loads(line, encoding='utf8')\n",
    "    if new['doc']['coordinates'] != None:\n",
    "        alltext.append(new['doc']['text'])\n",
    "    #     coorpoint.append(float(line['geo']['coordinates'][1]))\n",
    "    #     coorpoint.append(float(line['geo']['coordinates'][0]))\n",
    "        coorpoint.append(float(new['doc']['coordinates']['coordinates'][0]))\n",
    "        coorpoint.append(float(new['doc']['coordinates']['coordinates'][1]))\n",
    "        allpoint.append(coorpoint)\n",
    "        sa2_list.append(calbest(sa2_polygon,coorpoint))\n",
    "containfatkword.close()\n",
    "print len(sa2_list)\n",
    "print len(alltext)"
   ]
  },
  {
   "cell_type": "code",
   "execution_count": 60,
   "metadata": {
    "collapsed": true
   },
   "outputs": [],
   "source": [
    "import csv\n",
    "fileHeader = [\"lat\",\"lon\"]\n",
    "csvFile = open(\"C:/Users/LC/Desktop/Fast food research/seperate analysis/mcnewsa2.csv\", \"wb\")\n",
    "writer = csv.writer(csvFile)\n",
    "\n",
    "writer.writerow(fileHeader)\n",
    "for a in allpoint:\n",
    "    writer.writerow(a)\n",
    "csvFile.close()"
   ]
  },
  {
   "cell_type": "code",
   "execution_count": 61,
   "metadata": {
    "scrolled": true
   },
   "outputs": [
    {
     "name": "stdout",
     "output_type": "stream",
     "text": [
      "41\n"
     ]
    }
   ],
   "source": [
    "sa2_namelist = []\n",
    "for a in sa2_list:\n",
    "    if a != None:\n",
    "        sa2_namelist.append(a[1])\n",
    "        \n",
    "kfctw =sorted(get_BOW(sa2_namelist).items(), lambda x, y: cmp(x[1], y[1]), reverse=True)\n",
    "print len(kfctw)"
   ]
  },
  {
   "cell_type": "code",
   "execution_count": 62,
   "metadata": {
    "collapsed": true
   },
   "outputs": [],
   "source": [
    "kfclt = []\n",
    "for a in kfcrl:\n",
    "    new = []\n",
    "    new.extend(a)\n",
    "    for b in kfctw:\n",
    "        if a[0] == b[0]:\n",
    "            new.append(b[1])\n",
    "    kfclt.append(new)"
   ]
  },
  {
   "cell_type": "code",
   "execution_count": 63,
   "metadata": {},
   "outputs": [
    {
     "name": "stdout",
     "output_type": "stream",
     "text": [
      "127\n"
     ]
    }
   ],
   "source": [
    "print len(kfclt)"
   ]
  },
  {
   "cell_type": "code",
   "execution_count": 56,
   "metadata": {},
   "outputs": [
    {
     "name": "stdout",
     "output_type": "stream",
     "text": [
      "0\n"
     ]
    }
   ],
   "source": [
    "kfclinear = []\n",
    "num_kfc = []\n",
    "num_tweet = []\n",
    "for a in kfclt:\n",
    "    if len(a) == 3:\n",
    "        kfclinear.append(a)\n",
    "        num_kfc.append([a[1]])\n",
    "        num_tweet.append(a[2])\n",
    "print len(kfclinear)"
   ]
  },
  {
   "cell_type": "code",
   "execution_count": 31,
   "metadata": {},
   "outputs": [
    {
     "name": "stdout",
     "output_type": "stream",
     "text": [
      "[[u'Melbourne', 8, 49], [u'Malvern East', 4, 3], [u'Beaconsfield - Officer', 4, 1]]\n"
     ]
    }
   ],
   "source": [
    "print kfclinear[:3]"
   ]
  },
  {
   "cell_type": "code",
   "execution_count": 32,
   "metadata": {
    "collapsed": true
   },
   "outputs": [],
   "source": [
    "import csv\n",
    "fileHeader = [\"sa2_name\",\"num_maccas\",\"num_tweet_old\"]\n",
    "csvFile = open(\"C:/Users/LC/Desktop/Fast food research/seperate analysis/mclgainfo3p.csv\", \"wb\")\n",
    "writer = csv.writer(csvFile)\n",
    "\n",
    "writer.writerow(fileHeader)\n",
    "for a in kfclinear:\n",
    "    writer.writerow(a)\n",
    "csvFile.close()"
   ]
  },
  {
   "cell_type": "code",
   "execution_count": null,
   "metadata": {
    "collapsed": true
   },
   "outputs": [],
   "source": [
    "import csv\n",
    "fileHeader = [\"sa2_name\",\"num_maccas\",\"num_tweet_old\",\"num_tweet_new\"]\n",
    "csvFile = open(\"C:/Users/LC/Desktop/Fast food research/seperate analysis/mclgainfo.csv\", \"wb\")\n",
    "writer = csv.writer(csvFile)\n",
    "\n",
    "writer.writerow(fileHeader)\n",
    "for a in analydata:\n",
    "    writer.writerow(a)\n",
    "csvFile.close()"
   ]
  },
  {
   "cell_type": "code",
   "execution_count": 27,
   "metadata": {
    "collapsed": true
   },
   "outputs": [],
   "source": [
    "#linear regression\n",
    "import matplotlib.pyplot as plt  \n",
    "import numpy as np   \n",
    "from sklearn import datasets, linear_model  "
   ]
  },
  {
   "cell_type": "code",
   "execution_count": 28,
   "metadata": {
    "collapsed": true
   },
   "outputs": [],
   "source": [
    "#function to show the linear model\n",
    "def show_linear_model(x,y):\n",
    "    #Create linear regression object\n",
    "    regr = linear_model.LinearRegression()\n",
    "    regr.fit(x,y)\n",
    "    plt.scatter(x,y,color = 'blue')\n",
    "    plt.plot(x,regr.predict(x),color = 'red',linewidth = 4)\n",
    "    plt.xticks((x))\n",
    "    plt.yticks((y))\n",
    "    plt.show()"
   ]
  },
  {
   "cell_type": "code",
   "execution_count": 29,
   "metadata": {},
   "outputs": [
    {
     "data": {
      "image/png": "[encoded data removed]",
      "text/plain": [
       "<matplotlib.figure.Figure at 0x20420748>"
      ]
     },
     "metadata": {},
     "output_type": "display_data"
    }
   ],
   "source": [
    "show_linear_model(num_kfc[1:],num_tweet[1:])"
   ]
  },
  {
   "cell_type": "code",
   "execution_count": null,
   "metadata": {
    "collapsed": true
   },
   "outputs": [],
   "source": []
  }
 ],
 "metadata": {
  "anaconda-cloud": {},
  "kernelspec": {
   "display_name": "Python 2",
   "language": "python",
   "name": "python2"
  },
  "language_info": {
   "codemirror_mode": {
    "name": "ipython",
    "version": 2
   },
   "file_extension": ".py",
   "mimetype": "text/x-python",
   "name": "python",
   "nbconvert_exporter": "python",
   "pygments_lexer": "ipython2",
   "version": "2.7.13"
  }
 },
 "nbformat": 4,
 "nbformat_minor": 1
}
