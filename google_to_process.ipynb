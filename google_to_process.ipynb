{
 "cells": [
  {
   "cell_type": "markdown",
   "metadata": {},
   "source": [
    "# Python Tweepy Crawler"
   ]
  },
  {
   "cell_type": "markdown",
   "metadata": {
    "collapsed": true
   },
   "source": [
    "Student Name: Chang Liu\n",
    "\n",
    "Student ID: 741011\n",
    "\n",
    "Python version used: Python 2.7.13"
   ]
  },
  {
   "cell_type": "markdown",
   "metadata": {},
   "source": [
    "## General info"
   ]
  },
  {
   "cell_type": "markdown",
   "metadata": {
    "collapsed": true
   },
   "source": [
    "Twitter config"
   ]
  },
  {
   "cell_type": "code",
   "execution_count": 21,
   "metadata": {},
   "outputs": [
    {
     "name": "stdout",
     "output_type": "stream",
     "text": [
      "943\n",
      "772\n"
     ]
    }
   ],
   "source": [
    "import csv\n",
    "f = open(\"C:/Users/LC/Desktop/Fast food research/total_info.csv\")\n",
    "f_csv = csv.reader(f)\n",
    "mel_info = []\n",
    "rm_dup = []\n",
    "#to_dup = []\n",
    "for info in f_csv:\n",
    "    #to_dup.append(info)\n",
    "    if info not in rm_dup:\n",
    "        rm_dup.append(info)\n",
    "        lat = - float(info[1])\n",
    "        if lat < 38.5:\n",
    "            if lat > 37.5:\n",
    "                if float(info[2]) > 144.5:\n",
    "                    if float(info[2]) < 145.5:\n",
    "                        #print info[1]\n",
    "                        mel_info.append(info)\n",
    "#print len(to_dup)\n",
    "print len(rm_dup)\n",
    "print len(mel_info)"
   ]
  },
  {
   "cell_type": "code",
   "execution_count": 23,
   "metadata": {},
   "outputs": [
    {
     "name": "stdout",
     "output_type": "stream",
     "text": [
      "762\n"
     ]
    }
   ],
   "source": [
    "mel_ff = []\n",
    "rm = []\n",
    "for a in mel_info:\n",
    "    pair = []\n",
    "    pair.append(a[1])\n",
    "    pair.append(a[2])\n",
    "    if pair not in rm:\n",
    "        rm.append(pair)\n",
    "        mel_ff.append(a)\n",
    "print len(mel_ff)"
   ]
  },
  {
   "cell_type": "code",
   "execution_count": 25,
   "metadata": {},
   "outputs": [],
   "source": [
    "fileHeader = [\"name\", \"lat\",\"lon\"]\n",
    "csvFile = open(\"mel_ff.csv\", \"wb\")\n",
    "writer = csv.writer(csvFile)\n",
    "\n",
    "#writer.writerow(fileHeader)\n",
    "for a in mel_ff:\n",
    "    writer.writerow(a)\n",
    "csvFile.close()"
   ]
  }
 ],
 "metadata": {
  "anaconda-cloud": {},
  "kernelspec": {
   "display_name": "Python 2",
   "language": "python",
   "name": "python2"
  },
  "language_info": {
   "codemirror_mode": {
    "name": "ipython",
    "version": 2
   },
   "file_extension": ".py",
   "mimetype": "text/x-python",
   "name": "python",
   "nbconvert_exporter": "python",
   "pygments_lexer": "ipython2",
   "version": "2.7.13"
  }
 },
 "nbformat": 4,
 "nbformat_minor": 1
}
